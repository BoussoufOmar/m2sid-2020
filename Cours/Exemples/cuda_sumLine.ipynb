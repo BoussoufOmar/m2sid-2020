{
  "nbformat": 4,
  "nbformat_minor": 0,
  "metadata": {
    "colab": {
      "name": "sumline.ipynb",
      "provenance": [],
      "private_outputs": true,
      "collapsed_sections": []
    },
    "kernelspec": {
      "name": "python3",
      "display_name": "Python 3"
    },
    "accelerator": "GPU"
  },
  "cells": [
    {
      "cell_type": "code",
      "metadata": {
        "id": "2Kh6N0uqXCg-",
        "colab_type": "code",
        "colab": {}
      },
      "source": [
        "import numpy as np"
      ],
      "execution_count": 0,
      "outputs": []
    },
    {
      "cell_type": "code",
      "metadata": {
        "id": "2UKc5E--WnIc",
        "colab_type": "code",
        "colab": {}
      },
      "source": [
        "def sum_cpu(mat):\n",
        "  dimi,dimj = mat.shape\n",
        "  res=np.zeros(dimi)\n",
        "  for i in range(dimj):\n",
        "    res[i]=sum(mat[i,:])\n",
        "  return res"
      ],
      "execution_count": 0,
      "outputs": []
    },
    {
      "cell_type": "code",
      "metadata": {
        "id": "-ae6HKOHL-SA",
        "colab_type": "code",
        "colab": {}
      },
      "source": [
        "M=np.random.randn(1024,1024)\n",
        "M=M.astype(np.float32)"
      ],
      "execution_count": 0,
      "outputs": []
    },
    {
      "cell_type": "code",
      "metadata": {
        "colab_type": "code",
        "id": "Vto19JQGW4xC",
        "colab": {}
      },
      "source": [
        "%timeit res2=sum_cpu(M)"
      ],
      "execution_count": 0,
      "outputs": []
    },
    {
      "cell_type": "code",
      "metadata": {
        "id": "4POXfVoiKrIM",
        "colab_type": "code",
        "colab": {}
      },
      "source": [
        "!pip install pycuda"
      ],
      "execution_count": 0,
      "outputs": []
    },
    {
      "cell_type": "code",
      "metadata": {
        "id": "ndcVJRkxLl1k",
        "colab_type": "code",
        "colab": {}
      },
      "source": [
        "import pycuda.driver as cuda\n",
        "import pycuda.autoinit\n",
        "from pycuda.compiler import SourceModule"
      ],
      "execution_count": 0,
      "outputs": []
    },
    {
      "cell_type": "code",
      "metadata": {
        "id": "FHvy0lbVLwo9",
        "colab_type": "code",
        "colab": {}
      },
      "source": [
        "kernels=SourceModule(\"\"\"\n",
        "__global__ void sumMat(float * Md, float * Mres, int Width)\n",
        "{\n",
        "    int tx = threadIdx.x;\n",
        "    float Pvaleur = 0;\n",
        "    for (int i = 0; i < Width; i++)\n",
        "    {\n",
        "        Pvaleur += Md[tx * Width + i];\n",
        "    }\n",
        "    Mres[tx] = Pvaleur;\n",
        "}\n",
        "\"\"\")"
      ],
      "execution_count": 0,
      "outputs": []
    },
    {
      "cell_type": "code",
      "metadata": {
        "id": "xzUvoYCUL2hR",
        "colab_type": "code",
        "colab": {}
      },
      "source": [
        "def sum_gpu(mat):\n",
        "  dimx,dimy = mat.shape\n",
        "  res=np.zeros(dimy,np.float32)\n",
        "  # allocation on gpu\n",
        "  mat_gpu = cuda.mem_alloc(mat.nbytes) \n",
        "  res_gpu = cuda.mem_alloc(res.nbytes)\n",
        "  # copy data on gpu \n",
        "  cuda.memcpy_htod(mat_gpu, mat)\n",
        "  #choose and launch kernel\n",
        "  matsum = kernels.get_function(\"sumMat\")\n",
        "  width=np.int32(dimy)\n",
        "  matsum(mat_gpu,res_gpu,width,block=(dimx,1,1))\n",
        "  cuda.memcpy_dtoh(res,res_gpu)\n",
        "  # free on gpu\n",
        "  mat_gpu.free()\n",
        "  res_gpu.free()\n",
        "  return res"
      ],
      "execution_count": 0,
      "outputs": []
    },
    {
      "cell_type": "code",
      "metadata": {
        "id": "Cv_GN5OFMLJb",
        "colab_type": "code",
        "colab": {}
      },
      "source": [
        "%timeit res2=sum_gpu(M)"
      ],
      "execution_count": 0,
      "outputs": []
    }
  ]
}