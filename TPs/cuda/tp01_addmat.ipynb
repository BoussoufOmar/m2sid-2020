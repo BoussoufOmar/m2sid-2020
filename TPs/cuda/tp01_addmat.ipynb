{
 "cells": [
  {
   "cell_type": "code",
   "execution_count": null,
   "metadata": {
    "colab": {},
    "colab_type": "code",
    "id": "au5GDp3hBEUc"
   },
   "outputs": [],
   "source": [
    "!pip install pycuda"
   ]
  },
  {
   "cell_type": "code",
   "execution_count": null,
   "metadata": {
    "colab": {},
    "colab_type": "code",
    "id": "KIYbZLU6BS-2"
   },
   "outputs": [],
   "source": [
    "import numpy as np\n",
    "import pycuda.driver as cuda\n",
    "import pycuda.autoinit\n",
    "from pycuda.compiler import SourceModule"
   ]
  },
  {
   "cell_type": "markdown",
   "metadata": {
    "colab_type": "text",
    "id": "DR4fZ6ewqI8-"
   },
   "source": [
    "$\n",
    "\\begin{bmatrix}\n",
    " a_{11} &  \\dots  & a_{1n} \\\\\n",
    " \\vdots &  \\ddots & \\vdots \\\\\n",
    " a_{m1} &  \\dots  & a_{mn}\n",
    "\\end{bmatrix}\n",
    "+\n",
    "\\begin{bmatrix}\n",
    " b_{11} & \\dots  & b_{1n} \\\\\n",
    " \\vdots & \\ddots & \\vdots \\\\\n",
    " b_{m1} & \\dots  & b_{mn}\n",
    "\\end{bmatrix}\n",
    "=\\begin{bmatrix}\n",
    " a_{11} + b_{11} & \\dots  & a_{1n} + b_{1n} \\\\\n",
    "     \\vdots      & \\ddots &     \\vdots      \\\\\n",
    " a_{m1} + b_{m1} & \\dots  & a_{mn} + b_{mn}\n",
    "\\end{bmatrix}\n",
    "$"
   ]
  },
  {
   "cell_type": "markdown",
   "metadata": {
    "colab_type": "text",
    "id": "7vqJAqubqwPS"
   },
   "source": [
    "## Compléter le kernel"
   ]
  },
  {
   "cell_type": "code",
   "execution_count": null,
   "metadata": {
    "colab": {},
    "colab_type": "code",
    "id": "n160pp0FBmbT"
   },
   "outputs": [],
   "source": [
    "kernels = SourceModule(\"\"\"\n",
    "__global__ void add_mat(float *g_A,float *g_B,float *g_C)\n",
    "{\n",
    "   int idx = TODO ;\n",
    "   g_c[idx] = TODO ;\n",
    "}\n",
    "\"\"\")"
   ]
  },
  {
   "cell_type": "markdown",
   "metadata": {
    "colab_type": "text",
    "id": "NPznmClMqzul"
   },
   "source": [
    "## Initialisation des matrices sur le host"
   ]
  },
  {
   "cell_type": "code",
   "execution_count": null,
   "metadata": {
    "colab": {},
    "colab_type": "code",
    "id": "1M4TYaZECS-O"
   },
   "outputs": [],
   "source": [
    "h_a=np.random.randn(32,32)\n",
    "h_b=np.random.randn(32,32)\n",
    "h_a=h_a.astype(np.float32)\n",
    "h_b=h_b.astype(np.float32)"
   ]
  },
  {
   "cell_type": "markdown",
   "metadata": {
    "colab_type": "text",
    "id": "xGS6GL0JrESk"
   },
   "source": [
    "## Lecture du kernel"
   ]
  },
  {
   "cell_type": "code",
   "execution_count": null,
   "metadata": {
    "colab": {},
    "colab_type": "code",
    "id": "13Q8oAJxCqZm"
   },
   "outputs": [],
   "source": [
    "kadd_mat=kernels.get_function(\"add_mat\")"
   ]
  },
  {
   "cell_type": "markdown",
   "metadata": {
    "colab_type": "text",
    "id": "XrVD9HG7rNsa"
   },
   "source": [
    "## Compléter les allocations mémoire et l'écriture sur le device"
   ]
  },
  {
   "cell_type": "code",
   "execution_count": null,
   "metadata": {
    "colab": {},
    "colab_type": "code",
    "id": "g3FRltdVC3OY"
   },
   "outputs": [],
   "source": [
    "g_a=cuda.mem_alloc(...)\n",
    "g_b=cuda.mem_alloc(...)\n",
    "g_c=cuda.mem_alloc(...)\n",
    "cuda.memcpy_htod(...,...)\n",
    "cuda.memcpy_htod(...,...)"
   ]
  },
  {
   "cell_type": "markdown",
   "metadata": {
    "colab_type": "text",
    "id": "R2wI8fOkrfCt"
   },
   "source": [
    "## Appeler le kernel avec le bon block"
   ]
  },
  {
   "cell_type": "code",
   "execution_count": null,
   "metadata": {
    "colab": {},
    "colab_type": "code",
    "id": "xm4CM3iKDSdt"
   },
   "outputs": [],
   "source": [
    "kadd_mat(g_a,g_b,g_c,block=(...,...,...))"
   ]
  },
  {
   "cell_type": "markdown",
   "metadata": {
    "colab_type": "text",
    "id": "N_f3yxt5rsAb"
   },
   "source": [
    "## Récupération du résultat sur le host"
   ]
  },
  {
   "cell_type": "code",
   "execution_count": null,
   "metadata": {
    "colab": {},
    "colab_type": "code",
    "id": "G_x5O6R0D0us"
   },
   "outputs": [],
   "source": [
    "h_c = np.empty_like(h_a)\n",
    "cuda.memcpy_dtoh(h_c,g_C)"
   ]
  },
  {
   "cell_type": "markdown",
   "metadata": {
    "colab_type": "text",
    "id": "vsiPQYRdrxnq"
   },
   "source": [
    "## Libération de la mémoire sur le devcice"
   ]
  },
  {
   "cell_type": "code",
   "execution_count": null,
   "metadata": {
    "colab": {},
    "colab_type": "code",
    "id": "byGZV5E1ET6t"
   },
   "outputs": [],
   "source": [
    "g_A.free()\n",
    "g_B.free()\n",
    "g_C.free()"
   ]
  },
  {
   "cell_type": "markdown",
   "metadata": {
    "colab_type": "text",
    "id": "PYjcDrhpr6dL"
   },
   "source": [
    "## Affichage résultat"
   ]
  },
  {
   "cell_type": "code",
   "execution_count": null,
   "metadata": {
    "colab": {},
    "colab_type": "code",
    "id": "5DkQMpsAEWvh"
   },
   "outputs": [],
   "source": [
    "print(h_a)\n",
    "print(h_b)\n",
    "print(h_c)"
   ]
  },
  {
   "cell_type": "markdown",
   "metadata": {
    "colab_type": "text",
    "id": "-ceFba1SsBYo"
   },
   "source": [
    "## Modifier le kernel et son appel afin de prendre en charge les matrices suivantes"
   ]
  },
  {
   "cell_type": "code",
   "execution_count": null,
   "metadata": {
    "colab": {},
    "colab_type": "code",
    "id": "BzIGRMfKsLgf"
   },
   "outputs": [],
   "source": [
    "h_HA=np.random.randn(1024,1024)\n",
    "h_HB=np.random.randn(1024,1024)\n",
    "h_HA=h_HA.astype(np.float32)\n",
    "h_HB=h_HB.astype(np.float32)"
   ]
  },
  {
   "cell_type": "code",
   "execution_count": null,
   "metadata": {
    "colab": {},
    "colab_type": "code",
    "id": "OxDgqHkZswuL"
   },
   "outputs": [],
   "source": [
    "g_a=cuda.mem_alloc(...)\n",
    "g_b=cuda.mem_alloc(...)\n",
    "g_c=cuda.mem_alloc(...)"
   ]
  }
 ],
 "metadata": {
  "accelerator": "GPU",
  "colab": {
   "collapsed_sections": [],
   "name": "tp01_addmat.ipynb",
   "private_outputs": true,
   "provenance": [],
   "version": "0.3.2"
  },
  "kernelspec": {
   "display_name": "Python 3",
   "language": "python",
   "name": "python3"
  },
  "language_info": {
   "codemirror_mode": {
    "name": "ipython",
    "version": 3
   },
   "file_extension": ".py",
   "mimetype": "text/x-python",
   "name": "python",
   "nbconvert_exporter": "python",
   "pygments_lexer": "ipython3",
   "version": "3.7.1"
  }
 },
 "nbformat": 4,
 "nbformat_minor": 2
}
