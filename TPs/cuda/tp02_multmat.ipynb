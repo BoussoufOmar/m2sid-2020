{
 "cells": [
  {
   "cell_type": "code",
   "execution_count": null,
   "metadata": {
    "colab": {},
    "colab_type": "code",
    "id": "au5GDp3hBEUc"
   },
   "outputs": [],
   "source": [
    "!pip install pycuda"
   ]
  },
  {
   "cell_type": "code",
   "execution_count": null,
   "metadata": {
    "colab": {},
    "colab_type": "code",
    "id": "KIYbZLU6BS-2"
   },
   "outputs": [],
   "source": [
    "import numpy as np\n",
    "import pycuda.driver as cuda\n",
    "import pycuda.autoinit\n",
    "from pycuda.compiler import SourceModule"
   ]
  },
  {
   "cell_type": "markdown",
   "metadata": {
    "colab_type": "text",
    "id": "Ks4c1T5vDRf4"
   },
   "source": [
    "## Multiplication matricielle "
   ]
  },
  {
   "cell_type": "markdown",
   "metadata": {
    "colab_type": "text",
    "id": "DR4fZ6ewqI8-"
   },
   "source": [
    "$$\n",
    "\\begin{bmatrix}\n",
    " a_{11} &  \\dots  & a_{1n} \\\\\n",
    " \\vdots &  \\ddots & \\vdots \\\\\n",
    " a_{m1} &  \\dots  & a_{mn}\n",
    "\\end{bmatrix}\n",
    "\\times\n",
    "\\begin{bmatrix}\n",
    " b_{11} & \\dots  & b_{1p} \\\\\n",
    " \\vdots & \\ddots & \\vdots \\\\\n",
    " b_{n1} & \\dots  & b_{np}\n",
    "\\end{bmatrix}\n",
    "=\\begin{bmatrix}\n",
    "  c_{11} &  \\dots  & c_{1m} \\\\\n",
    " \\vdots &  \\ddots & \\vdots \\\\\n",
    " a_{n1} &  \\dots  & c_{mp}\n",
    "\\end{bmatrix}\n",
    "$$\n",
    "\n",
    "$$\n",
    "c_{ij}=\\sum_{k=1}^na_{ik}b_{kj}\n",
    "$$"
   ]
  },
  {
   "cell_type": "markdown",
   "metadata": {
    "colab_type": "text",
    "id": "Rypc42Xhu8q9"
   },
   "source": [
    "## Fonction mult_mat en python"
   ]
  },
  {
   "cell_type": "code",
   "execution_count": null,
   "metadata": {
    "colab": {},
    "colab_type": "code",
    "id": "cxMbEtMVvAQn"
   },
   "outputs": [],
   "source": [
    "def mult_mat(A,B):\n",
    "  adim1,adim2=A.shape\n",
    "  bdim1,bdim2=B.shape\n",
    "  C=np.zeros((adim1,bdim2))\n",
    "  #adim2 == bdim1\n",
    "  for i in range(adim1):\n",
    "    for j in range(bdim2):\n",
    "      for k in range(adim2):\n",
    "        C[i,j]+=A[i,k]*B[k,j]\n",
    "  return C"
   ]
  },
  {
   "cell_type": "markdown",
   "metadata": {
    "colab_type": "text",
    "id": "7vqJAqubqwPS"
   },
   "source": [
    "## Compléter le kernel"
   ]
  },
  {
   "cell_type": "code",
   "execution_count": null,
   "metadata": {
    "colab": {},
    "colab_type": "code",
    "id": "n160pp0FBmbT"
   },
   "outputs": [],
   "source": [
    "kernels = SourceModule(\"\"\"\n",
    "__global__ void mult_mat(float *A,float *B,float *C, int width)\n",
    "{\n",
    "   int idx = TODO ;\n",
    "   TODO ;\n",
    "}\n",
    "\"\"\")"
   ]
  },
  {
   "cell_type": "markdown",
   "metadata": {
    "colab_type": "text",
    "id": "NPznmClMqzul"
   },
   "source": [
    "## Initialisation des matrices sur le host"
   ]
  },
  {
   "cell_type": "code",
   "execution_count": null,
   "metadata": {
    "colab": {},
    "colab_type": "code",
    "id": "1M4TYaZECS-O"
   },
   "outputs": [],
   "source": [
    "h_a=np.random.randn(32,32)\n",
    "h_b=np.random.randn(32,32)\n",
    "h_a=h_a.astype(np.float32)\n",
    "h_b=h_b.astype(np.float32)\n",
    "h_c=..."
   ]
  },
  {
   "cell_type": "code",
   "execution_count": null,
   "metadata": {
    "colab": {},
    "colab_type": "code",
    "id": "vIyc8OjAvxZ_"
   },
   "outputs": [],
   "source": [
    "mult_mat(h_a,h_b)"
   ]
  },
  {
   "cell_type": "markdown",
   "metadata": {
    "colab_type": "text",
    "id": "xGS6GL0JrESk"
   },
   "source": [
    "## Lecture du kernel"
   ]
  },
  {
   "cell_type": "code",
   "execution_count": null,
   "metadata": {
    "colab": {},
    "colab_type": "code",
    "id": "13Q8oAJxCqZm"
   },
   "outputs": [],
   "source": [
    "kmult_mat=kernels.get_function(\"mult_mat\")"
   ]
  },
  {
   "cell_type": "markdown",
   "metadata": {
    "colab_type": "text",
    "id": "XrVD9HG7rNsa"
   },
   "source": [
    "## Compléter les allocations mémoire et l'écriture sur le device"
   ]
  },
  {
   "cell_type": "code",
   "execution_count": null,
   "metadata": {
    "colab": {},
    "colab_type": "code",
    "id": "g3FRltdVC3OY"
   },
   "outputs": [],
   "source": [
    "g_a=cuda.mem_alloc(h_a.nbytes)\n",
    "g_b=cuda.mem_alloc(h_b.nbytes)\n",
    "g_c=cuda.mem_alloc(...)\n",
    "cuda.memcpy_htod(g_a,h_a)\n",
    "cuda.memcpy_htod(g_b,h_b)"
   ]
  },
  {
   "cell_type": "markdown",
   "metadata": {
    "colab_type": "text",
    "id": "R2wI8fOkrfCt"
   },
   "source": [
    "## Appeler le kernel avec le bon block"
   ]
  },
  {
   "cell_type": "code",
   "execution_count": null,
   "metadata": {
    "colab": {},
    "colab_type": "code",
    "id": "xm4CM3iKDSdt"
   },
   "outputs": [],
   "source": [
    "width=np.int32(...)\n",
    "kmult_mat(g_a,g_b,g_c,width,block=(...,...,...))"
   ]
  },
  {
   "cell_type": "markdown",
   "metadata": {
    "colab_type": "text",
    "id": "N_f3yxt5rsAb"
   },
   "source": [
    "## Récupération du résultat sur le host"
   ]
  },
  {
   "cell_type": "code",
   "execution_count": null,
   "metadata": {
    "colab": {},
    "colab_type": "code",
    "id": "G_x5O6R0D0us"
   },
   "outputs": [],
   "source": [
    "cuda.memcpy_dtoh(h_c,g_c)"
   ]
  },
  {
   "cell_type": "markdown",
   "metadata": {
    "colab_type": "text",
    "id": "vsiPQYRdrxnq"
   },
   "source": [
    "## Libération de la mémoire sur le devcice"
   ]
  },
  {
   "cell_type": "code",
   "execution_count": null,
   "metadata": {
    "colab": {},
    "colab_type": "code",
    "id": "byGZV5E1ET6t"
   },
   "outputs": [],
   "source": [
    "g_a.free()\n",
    "g_b.free()\n",
    "g_c.free()"
   ]
  },
  {
   "cell_type": "markdown",
   "metadata": {
    "colab_type": "text",
    "id": "PYjcDrhpr6dL"
   },
   "source": [
    "## Affichage résultat"
   ]
  },
  {
   "cell_type": "code",
   "execution_count": null,
   "metadata": {
    "colab": {},
    "colab_type": "code",
    "id": "5DkQMpsAEWvh"
   },
   "outputs": [],
   "source": [
    "print(h_a)\n",
    "print(h_b)\n",
    "print(h_c)"
   ]
  }
 ],
 "metadata": {
  "accelerator": "GPU",
  "colab": {
   "collapsed_sections": [],
   "name": "tp02-multmat.ipynb",
   "private_outputs": true,
   "provenance": [],
   "version": "0.3.2"
  },
  "kernelspec": {
   "display_name": "Python 3",
   "language": "python",
   "name": "python3"
  },
  "language_info": {
   "codemirror_mode": {
    "name": "ipython",
    "version": 3
   },
   "file_extension": ".py",
   "mimetype": "text/x-python",
   "name": "python",
   "nbconvert_exporter": "python",
   "pygments_lexer": "ipython3",
   "version": "3.7.1"
  }
 },
 "nbformat": 4,
 "nbformat_minor": 2
}
