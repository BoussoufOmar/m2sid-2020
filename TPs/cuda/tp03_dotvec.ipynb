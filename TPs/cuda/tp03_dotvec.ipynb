{
 "cells": [
  {
   "cell_type": "code",
   "execution_count": null,
   "metadata": {
    "colab": {},
    "colab_type": "code",
    "id": "au5GDp3hBEUc"
   },
   "outputs": [],
   "source": [
    "!pip install pycuda"
   ]
  },
  {
   "cell_type": "code",
   "execution_count": null,
   "metadata": {
    "colab": {},
    "colab_type": "code",
    "id": "KIYbZLU6BS-2"
   },
   "outputs": [],
   "source": [
    "import numpy as np\n",
    "import pycuda.driver as cuda\n",
    "import pycuda.autoinit\n",
    "from pycuda.compiler import SourceModule"
   ]
  },
  {
   "cell_type": "markdown",
   "metadata": {
    "colab_type": "text",
    "id": "Ks4c1T5vDRf4"
   },
   "source": [
    "## Produit scalaire"
   ]
  },
  {
   "cell_type": "markdown",
   "metadata": {
    "colab_type": "text",
    "id": "DR4fZ6ewqI8-"
   },
   "source": [
    "$$\n",
    "\\begin{bmatrix}\n",
    "a_1,a_2,\\dots,a_n\n",
    "\\end{bmatrix}\n",
    "\\times\n",
    "\\begin{bmatrix}\n",
    "b_1,b_2,\\dots,b_n\n",
    "\\end{bmatrix}\n",
    "=\n",
    "a_1b_1+a_2b_2+,\\dots,+a_nb_n\n",
    "$$"
   ]
  },
  {
   "cell_type": "markdown",
   "metadata": {
    "colab_type": "text",
    "id": "Rypc42Xhu8q9"
   },
   "source": [
    "## Fonction dot_vec en python"
   ]
  },
  {
   "cell_type": "code",
   "execution_count": null,
   "metadata": {
    "colab": {},
    "colab_type": "code",
    "id": "cxMbEtMVvAQn"
   },
   "outputs": [],
   "source": [
    "def dot_vec(va,vb):\n",
    "  adim=va.size\n",
    "  #bdim=vb.size ; bdim == adim\n",
    "  res=np.zeros(adim)\n",
    "  for i in range(adim):\n",
    "    res[i]+=va[i]*vb[i]\n",
    "  dotprod=sum(res[:])\n",
    "  return dotprod"
   ]
  },
  {
   "cell_type": "markdown",
   "metadata": {
    "colab_type": "text",
    "id": "7vqJAqubqwPS"
   },
   "source": [
    "## Compléter le kernel"
   ]
  },
  {
   "cell_type": "code",
   "execution_count": null,
   "metadata": {
    "colab": {},
    "colab_type": "code",
    "id": "n160pp0FBmbT"
   },
   "outputs": [],
   "source": [
    "kernels = SourceModule(\"\"\"\n",
    "__global__ void dot_vec(float *veca, float *vecb, float *res)\n",
    "{\n",
    "    // Todo\n",
    "}\n",
    "\"\"\")"
   ]
  },
  {
   "cell_type": "markdown",
   "metadata": {
    "colab_type": "text",
    "id": "NPznmClMqzul"
   },
   "source": [
    "## Initialisation des vecteurs sur le host"
   ]
  },
  {
   "cell_type": "code",
   "execution_count": null,
   "metadata": {
    "colab": {},
    "colab_type": "code",
    "id": "1M4TYaZECS-O"
   },
   "outputs": [],
   "source": [
    "va=np.random.randn(1024)\n",
    "vb=np.random.randn(1024)\n",
    "va=va.astype(np.float32)\n",
    "vb=vb.astype(np.float32)\n",
    "h_res=..."
   ]
  },
  {
   "cell_type": "code",
   "execution_count": null,
   "metadata": {
    "colab": {},
    "colab_type": "code",
    "id": "vIyc8OjAvxZ_"
   },
   "outputs": [],
   "source": [
    "dot_vec(va,vb)"
   ]
  },
  {
   "cell_type": "markdown",
   "metadata": {
    "colab_type": "text",
    "id": "xGS6GL0JrESk"
   },
   "source": [
    "## Lecture du kernel"
   ]
  },
  {
   "cell_type": "code",
   "execution_count": null,
   "metadata": {
    "colab": {},
    "colab_type": "code",
    "id": "13Q8oAJxCqZm"
   },
   "outputs": [],
   "source": [
    "kdot_vec=kernels.get_function(\"dot_vec\")"
   ]
  },
  {
   "cell_type": "markdown",
   "metadata": {
    "colab_type": "text",
    "id": "XrVD9HG7rNsa"
   },
   "source": [
    "## Allocations mémoire et copie sur le device"
   ]
  },
  {
   "cell_type": "code",
   "execution_count": null,
   "metadata": {
    "colab": {},
    "colab_type": "code",
    "id": "g3FRltdVC3OY"
   },
   "outputs": [],
   "source": [
    "g_va=cuda.mem_alloc(va.nbytes)\n",
    "g_vb=cuda.mem_alloc(vb.nbytes)\n",
    "#g_res=cuda.mem_alloc(...) TODO\n",
    "cuda.memcpy_htod(g_va,va)\n",
    "cuda.memcpy_htod(g_vb,vb)"
   ]
  },
  {
   "cell_type": "markdown",
   "metadata": {
    "colab_type": "text",
    "id": "R2wI8fOkrfCt"
   },
   "source": [
    "## Appeler le kernel avec le bon block"
   ]
  },
  {
   "cell_type": "code",
   "execution_count": null,
   "metadata": {
    "colab": {},
    "colab_type": "code",
    "id": "xm4CM3iKDSdt"
   },
   "outputs": [],
   "source": [
    "kdot_vec(g_va,g_vb,g_res, ,block=(...,...,...))"
   ]
  },
  {
   "cell_type": "markdown",
   "metadata": {
    "colab_type": "text",
    "id": "N_f3yxt5rsAb"
   },
   "source": [
    "## Récupération du résultat sur le host"
   ]
  },
  {
   "cell_type": "code",
   "execution_count": null,
   "metadata": {
    "colab": {},
    "colab_type": "code",
    "id": "G_x5O6R0D0us"
   },
   "outputs": [],
   "source": [
    "cuda.memcpy_dtoh(h_res,g_res)"
   ]
  },
  {
   "cell_type": "markdown",
   "metadata": {
    "colab_type": "text",
    "id": "vsiPQYRdrxnq"
   },
   "source": [
    "## Libération de la mémoire sur le devcice"
   ]
  },
  {
   "cell_type": "code",
   "execution_count": null,
   "metadata": {
    "colab": {},
    "colab_type": "code",
    "id": "byGZV5E1ET6t"
   },
   "outputs": [],
   "source": [
    "g_va.free()\n",
    "g_vb.free()\n",
    "g_res.free()"
   ]
  },
  {
   "cell_type": "markdown",
   "metadata": {
    "colab_type": "text",
    "id": "PYjcDrhpr6dL"
   },
   "source": [
    "## Finalisation du calcul sur le host"
   ]
  },
  {
   "cell_type": "code",
   "execution_count": null,
   "metadata": {
    "colab": {},
    "colab_type": "code",
    "id": "5DkQMpsAEWvh"
   },
   "outputs": [],
   "source": [
    "dotprod=sum(h_res[:])"
   ]
  },
  {
   "cell_type": "markdown",
   "metadata": {
    "colab_type": "text",
    "id": "iNZVA_-CMQG6"
   },
   "source": [
    "## Modifier le kernel pour faire la somme sur le device"
   ]
  }
 ],
 "metadata": {
  "accelerator": "GPU",
  "colab": {
   "collapsed_sections": [],
   "name": "tp03-dotvec.ipynb",
   "private_outputs": true,
   "provenance": [],
   "version": "0.3.2"
  },
  "kernelspec": {
   "display_name": "Python 3",
   "language": "python",
   "name": "python3"
  },
  "language_info": {
   "codemirror_mode": {
    "name": "ipython",
    "version": 3
   },
   "file_extension": ".py",
   "mimetype": "text/x-python",
   "name": "python",
   "nbconvert_exporter": "python",
   "pygments_lexer": "ipython3",
   "version": "3.7.1"
  }
 },
 "nbformat": 4,
 "nbformat_minor": 2
}
